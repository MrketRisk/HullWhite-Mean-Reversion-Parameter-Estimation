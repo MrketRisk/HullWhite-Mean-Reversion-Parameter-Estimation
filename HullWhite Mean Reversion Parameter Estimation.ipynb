{
 "cells": [
  {
   "cell_type": "markdown",
   "id": "b03c8a00",
   "metadata": {},
   "source": [
    "### Introduction to Hull White Model\n",
    "\n",
    "The Hull–White (One-Factor) Model: It is an arbitrage free model.\\\n",
    "dr = (Theta(t) - k * r) * dt + Sigma * dz \\\n",
    "where k and Sigma are constants.\\\n",
    "k is the rate of mean reversion\\\n",
    "Sigma is the long run volatility of short rate. \\\n",
    "Theta(t) is long term mean rate. \\\n",
    "k is determined using log likelihood"
   ]
  },
  {
   "cell_type": "code",
   "execution_count": 2,
   "id": "751da7dc",
   "metadata": {},
   "outputs": [],
   "source": [
    "import numpy as np\n",
    "import pandas as pd\n",
    "import QuantLib as ql\n",
    "from scipy.optimize import minimize "
   ]
  },
  {
   "cell_type": "code",
   "execution_count": 6,
   "id": "04f460b6",
   "metadata": {},
   "outputs": [],
   "source": [
    "#Reading a file containing MIBOR 1 Month rate (proxy for short rate) for last 5 years\n",
    "RateFile=pd.read_csv(\"MIBOR1M.csv\")\n",
    "\n",
    "#Keeping only the rate column\n",
    "RateFile = RateFile[['Mibor1m']]\n",
    "\n",
    "#Change in daily rate (returns of rate) = dr\n",
    "returns = RateFile.diff().rename(columns = {'Mibor1m':'dr'})\n",
    "RateFile = RateFile.join(returns)\n",
    "RateFile[np.isnan(RateFile)]  = 0\n",
    "\n",
    "#X is used for determing Log Likelihood\n",
    "RateFile['X'] = 0\n",
    "RateFile['LL'] = 0"
   ]
  },
  {
   "cell_type": "code",
   "execution_count": 7,
   "id": "5479e531",
   "metadata": {},
   "outputs": [],
   "source": [
    "#initial dummy values for parameter k for mean reversion\n",
    "k = 0.5\n",
    "\n",
    "#Theta is the long run mean\n",
    "Theta = np.average(RateFile[['Mibor1m']])\n",
    "\n",
    "#Sigma is the long run volatility\n",
    "Sigma = np.std(RateFile[['Mibor1m']])\n",
    "Sigma = np.float64(Sigma)\n",
    "\n",
    "#value of dt is 1 day\n",
    "dt = 1/252"
   ]
  },
  {
   "cell_type": "code",
   "execution_count": 10,
   "id": "6546a309",
   "metadata": {},
   "outputs": [],
   "source": [
    "def HW_Parameter_Est(m, RateFile):\n",
    "    k = m\n",
    "    theta = Theta\n",
    "    sigma = Sigma\n",
    "    dt = 1/252\n",
    "    \n",
    "    #The assumption is [dr] follows Normal Distribution with Mu of [(Theta(t) - k * r) * dt] and Variance of [Sigma**2 * dt]\n",
    "    #Therefore [(dr - Mu)/sqrt(dt)] follows a Normal Distribution of mu of 0 and Variance of Sigma**2\n",
    "    #PDF for this function is (1/Sqrt(2*pi*Variance))*exp(-0.5*x**2/Variance)\n",
    "    #As PDFs are small values where optimization fails at times, the log of PDF is taken for optimization\n",
    "    #Log of PDF will be log(1/Sqrt(2*pi))+(-0.5)log(Variance)+(-0.5*x**2/Variance)\n",
    "    #Log(1/Sqrt(2*pi)) is ignored as this is a constant, along with 0.5 of the other two items\n",
    "    \n",
    "    for i in range(1,RateFile.shape[0]):\n",
    "    \n",
    "        x = RateFile.loc[i,['dr']]\n",
    "        x = np.float64(x)\n",
    "    \n",
    "        y=(theta - k * RateFile.loc[i-1,['Mibor1m']])*dt\n",
    "        y = np.float64(y)\n",
    "    \n",
    "        z=(x-y)/dt**0.5\n",
    "        z = np.float64(z)\n",
    "    \n",
    "        RateFile.loc[i,['X']] = z\n",
    "    \n",
    "    for i in range(1,RateFile.shape[0]):\n",
    "    \n",
    "        x = np.log(sigma**2)\n",
    "        x = np.float64(x)\n",
    "    \n",
    "        y = RateFile.loc[i,['X']]**2/sigma**2\n",
    "        y = np.float64(y)\n",
    "    \n",
    "        z=-(x+y)\n",
    "        z = np.float64(z)\n",
    "    \n",
    "        RateFile.loc[i,['LL']] = z\n",
    "        \n",
    "    Sum_of_LL = np.sum(RateFile['LL'])\n",
    "    return(-Sum_of_LL)\n",
    "    "
   ]
  },
  {
   "cell_type": "code",
   "execution_count": 12,
   "id": "51b72f9c",
   "metadata": {},
   "outputs": [
    {
     "data": {
      "text/plain": [
       "array([0.94390871])"
      ]
     },
     "execution_count": 12,
     "metadata": {},
     "output_type": "execute_result"
    }
   ],
   "source": [
    "#Optimization Function \n",
    "check = minimize(HW_Parameter_Est,x0=k,args=(RateFile))\n",
    "#Estimated Value of mean Reversion\n",
    "check.x"
   ]
  },
  {
   "cell_type": "code",
   "execution_count": null,
   "id": "85a458e4",
   "metadata": {},
   "outputs": [],
   "source": []
  }
 ],
 "metadata": {
  "kernelspec": {
   "display_name": "Python 3 (ipykernel)",
   "language": "python",
   "name": "python3"
  },
  "language_info": {
   "codemirror_mode": {
    "name": "ipython",
    "version": 3
   },
   "file_extension": ".py",
   "mimetype": "text/x-python",
   "name": "python",
   "nbconvert_exporter": "python",
   "pygments_lexer": "ipython3",
   "version": "3.10.9"
  }
 },
 "nbformat": 4,
 "nbformat_minor": 5
}
